{
 "cells": [
  {
   "cell_type": "code",
   "execution_count": 1,
   "metadata": {},
   "outputs": [],
   "source": [
    "import car_rental.cars as cars\n",
    "import customers.customers as customers\n",
    "import car_rental.garage as garage\n",
    "import car_rental.rental_shop as rental_shop"
   ]
  },
  {
   "cell_type": "markdown",
   "metadata": {},
   "source": [
    "aj 렌탈샵이 2020년 3월 21일에 오픈함"
   ]
  },
  {
   "cell_type": "code",
   "execution_count": 2,
   "metadata": {},
   "outputs": [],
   "source": [
    "aj=rental_shop.Rental(2020, 3, 21)"
   ]
  },
  {
   "cell_type": "markdown",
   "metadata": {},
   "source": [
    "앞선 케이스와 동일하게 차 구입"
   ]
  },
  {
   "cell_type": "code",
   "execution_count": 3,
   "metadata": {},
   "outputs": [],
   "source": [
    "## instanitate\n",
    "s_1 = cars.Sonata(\"s_1\", True)\n",
    "s_2 = cars.Sonata(\"s_2\", True)\n",
    "s_3 = cars.Sonata(\"s_3\", False)\n",
    "tu_1 = cars.Tucson(\"tu_1\", True)\n",
    "tu_2 = cars.Tucson(\"tu_2\", True)\n",
    "b_1 = cars.Bongo(\"b_1\", True)\n",
    "b_2 = cars.Bongo(\"b_2\", False)\n",
    "ts_1 = cars.Tesla_s(\"ts_1\", True)\n",
    "ts_2 = cars.Tesla_s(\"ts_2\", True)\n",
    "ts_3 = cars.Tesla_s(\"ts_3\", True)\n",
    "##ok buy car and add to garage\n",
    "aj.buy_car(s_1)\n",
    "aj.buy_car(s_2)\n",
    "aj.buy_car(s_3)\n",
    "aj.buy_car(tu_1)\n",
    "aj.buy_car(tu_2)\n",
    "aj.buy_car(b_1)\n",
    "aj.buy_car(b_2)\n",
    "aj.buy_car(ts_1)\n",
    "aj.buy_car(ts_2)\n",
    "aj.buy_car(ts_3)"
   ]
  },
  {
   "cell_type": "markdown",
   "metadata": {},
   "source": [
    "aj의 자동차 보유 현황"
   ]
  },
  {
   "cell_type": "code",
   "execution_count": 4,
   "metadata": {},
   "outputs": [
    {
     "name": "stdout",
     "output_type": "stream",
     "text": [
      "현재 자동차 현황\n",
      "Sonata     s_1        : 대여가능\n",
      "Sonata     s_2        : 대여가능\n",
      "Sonata     s_3        : 대여가능\n",
      "Tucson     tu_1       : 대여가능\n",
      "Tucson     tu_2       : 대여가능\n",
      "Bongo      b_1        : 대여가능\n",
      "Bongo      b_2        : 대여가능\n",
      "Tesla_s    ts_1       : 대여가능\n",
      "Tesla_s    ts_2       : 대여가능\n",
      "Tesla_s    ts_3       : 대여가능\n"
     ]
    }
   ],
   "source": [
    "aj.monitor()"
   ]
  },
  {
   "cell_type": "markdown",
   "metadata": {},
   "source": [
    "mike 손님"
   ]
  },
  {
   "cell_type": "code",
   "execution_count": 5,
   "metadata": {},
   "outputs": [],
   "source": [
    "mike=customers.Customer(\"kim\")"
   ]
  },
  {
   "cell_type": "markdown",
   "metadata": {},
   "source": [
    "mike는 전기차를 원함"
   ]
  },
  {
   "cell_type": "code",
   "execution_count": 6,
   "metadata": {},
   "outputs": [
    {
     "name": "stdout",
     "output_type": "stream",
     "text": [
      "Tesla_s\n",
      "요청사항에서 대여가능한 차 목록\n",
      "Tesla_s    ts_1      \n",
      "Tesla_s    ts_2      \n",
      "Tesla_s    ts_3      \n"
     ]
    }
   ],
   "source": [
    "mike.ask(\"Electric\", aj)"
   ]
  },
  {
   "cell_type": "markdown",
   "metadata": {},
   "source": [
    "ts_2 3일간 대여"
   ]
  },
  {
   "cell_type": "code",
   "execution_count": 7,
   "metadata": {},
   "outputs": [
    {
     "name": "stdout",
     "output_type": "stream",
     "text": [
      "대여되었습니다.\n",
      "반납시 연료는 50%이상이어야 합니다.\n"
     ]
    }
   ],
   "source": [
    "mike.rent(ts_2, 3, aj)"
   ]
  },
  {
   "cell_type": "markdown",
   "metadata": {},
   "source": [
    "자동차 이용"
   ]
  },
  {
   "cell_type": "code",
   "execution_count": 8,
   "metadata": {},
   "outputs": [
    {
     "name": "stdout",
     "output_type": "stream",
     "text": [
      "100km 이동\n"
     ]
    }
   ],
   "source": [
    "mike.driving(100)"
   ]
  },
  {
   "cell_type": "code",
   "execution_count": 9,
   "metadata": {},
   "outputs": [],
   "source": [
    "##2명 탑승\n",
    "mike.ride_passenger(2)"
   ]
  },
  {
   "cell_type": "code",
   "execution_count": 10,
   "metadata": {},
   "outputs": [
    {
     "name": "stdout",
     "output_type": "stream",
     "text": [
      "이 차에는 짐을 실을 수 없습니다.\n"
     ]
    }
   ],
   "source": [
    "##짐을 싣지 못하는 차에 짐을 싣는다면?\n",
    "mike.loading(20)"
   ]
  },
  {
   "cell_type": "code",
   "execution_count": 11,
   "metadata": {},
   "outputs": [
    {
     "name": "stdout",
     "output_type": "stream",
     "text": [
      "현재 연료가 부족해 400만큼 갈 수 없습니다. 현재 주행가능 거리는 336.00입니다.\n",
      "336.0km 이동\n",
      "주행가능 거리를 모두 운행했습니다. 연료가 부족해 주행을 중지합니다.\n"
     ]
    }
   ],
   "source": [
    "mike.driving(400)"
   ]
  },
  {
   "cell_type": "code",
   "execution_count": 12,
   "metadata": {},
   "outputs": [
    {
     "name": "stdout",
     "output_type": "stream",
     "text": [
      "Tesla_s DASH\n",
      "총운행거리(km) : 436.0\n",
      "현재 연료량(kwh) : 0.0\n",
      "주행가능거리(km) : 0.0\n",
      "최근 100km간 연비 : 0.9599999999999984\n",
      "탑승인원(명) : 2\n"
     ]
    }
   ],
   "source": [
    "mike.retrieve_dash()"
   ]
  },
  {
   "cell_type": "code",
   "execution_count": 13,
   "metadata": {},
   "outputs": [
    {
     "name": "stdout",
     "output_type": "stream",
     "text": [
      "450.0kwh 충전했습니다.\n"
     ]
    }
   ],
   "source": [
    "mike.fill_up()"
   ]
  },
  {
   "cell_type": "code",
   "execution_count": 14,
   "metadata": {},
   "outputs": [
    {
     "name": "stdout",
     "output_type": "stream",
     "text": [
      "하차인원이 현재 탑승인원보다 많을 수 없습니다.\n"
     ]
    }
   ],
   "source": [
    "##승차인원보다 많은 인원이 내리려고 할때\n",
    "mike.get_off_passenger(3)"
   ]
  },
  {
   "cell_type": "code",
   "execution_count": 15,
   "metadata": {},
   "outputs": [],
   "source": [
    "mike.get_off_passenger(2)"
   ]
  },
  {
   "cell_type": "code",
   "execution_count": 16,
   "metadata": {},
   "outputs": [
    {
     "name": "stdout",
     "output_type": "stream",
     "text": [
      "Tesla_s DASH\n",
      "총운행거리(km) : 436.0\n",
      "현재 연료량(kwh) : 450\n",
      "주행가능거리(km) : 450.0\n",
      "최근 100km간 연비 : 0.9599999999999984\n",
      "탑승인원(명) : 0\n"
     ]
    }
   ],
   "source": [
    "mike.retrieve_dash()"
   ]
  },
  {
   "cell_type": "code",
   "execution_count": 17,
   "metadata": {},
   "outputs": [
    {
     "name": "stdout",
     "output_type": "stream",
     "text": [
      "300km 이동\n"
     ]
    }
   ],
   "source": [
    "mike.driving(300)"
   ]
  },
  {
   "cell_type": "code",
   "execution_count": 18,
   "metadata": {},
   "outputs": [
    {
     "name": "stdout",
     "output_type": "stream",
     "text": [
      "연료를 50%이상으로 채우고 반납해야합니다.\n"
     ]
    }
   ],
   "source": [
    "##전체 연료의 50%이상 채우지 않으면 반납을 할 수 없다.\n",
    "mike.give_back()"
   ]
  },
  {
   "cell_type": "code",
   "execution_count": 19,
   "metadata": {},
   "outputs": [
    {
     "name": "stdout",
     "output_type": "stream",
     "text": [
      "Tesla_s DASH\n",
      "총운행거리(km) : 736.0\n",
      "현재 연료량(kwh) : 150.0\n",
      "주행가능거리(km) : 150.0\n",
      "최근 100km간 연비 : 1.0\n",
      "탑승인원(명) : 0\n"
     ]
    }
   ],
   "source": [
    "mike.retrieve_dash()"
   ]
  },
  {
   "cell_type": "code",
   "execution_count": 20,
   "metadata": {},
   "outputs": [
    {
     "name": "stdout",
     "output_type": "stream",
     "text": [
      "75kwh 충전했습니다.\n"
     ]
    }
   ],
   "source": [
    "## 충전\n",
    "mike.fill(75)"
   ]
  },
  {
   "cell_type": "markdown",
   "metadata": {},
   "source": [
    "이때 렌탈샵의 현황은?"
   ]
  },
  {
   "cell_type": "code",
   "execution_count": 21,
   "metadata": {},
   "outputs": [
    {
     "name": "stdout",
     "output_type": "stream",
     "text": [
      "현재 자동차 현황\n",
      "Sonata     s_1        : 대여가능\n",
      "Sonata     s_2        : 대여가능\n",
      "Sonata     s_3        : 대여가능\n",
      "Tucson     tu_1       : 대여가능\n",
      "Tucson     tu_2       : 대여가능\n",
      "Bongo      b_1        : 대여가능\n",
      "Bongo      b_2        : 대여가능\n",
      "Tesla_s    ts_1       : 대여가능\n",
      "Tesla_s    ts_2       : 대여중\n",
      "Tesla_s    ts_3       : 대여가능\n"
     ]
    }
   ],
   "source": [
    "aj.monitor()"
   ]
  },
  {
   "cell_type": "markdown",
   "metadata": {},
   "source": [
    "mike 차 반납"
   ]
  },
  {
   "cell_type": "code",
   "execution_count": 22,
   "metadata": {},
   "outputs": [
    {
     "name": "stdout",
     "output_type": "stream",
     "text": [
      "반납되었습니다.\n"
     ]
    }
   ],
   "source": [
    "mike.give_back()"
   ]
  },
  {
   "cell_type": "markdown",
   "metadata": {},
   "source": [
    "aj가 ts_2를 폐차하려고 한다"
   ]
  },
  {
   "cell_type": "code",
   "execution_count": 23,
   "metadata": {},
   "outputs": [
    {
     "name": "stdout",
     "output_type": "stream",
     "text": [
      "ts_2 을 폐차했습니다.\n"
     ]
    }
   ],
   "source": [
    "aj.remove_car(ts_2)"
   ]
  },
  {
   "cell_type": "markdown",
   "metadata": {},
   "source": [
    "그리고 sonata 한 대를 추가 구매했다."
   ]
  },
  {
   "cell_type": "code",
   "execution_count": 24,
   "metadata": {},
   "outputs": [],
   "source": [
    "ss = cars.Sonata('ss',True)\n",
    "aj.buy_car(ss)"
   ]
  },
  {
   "cell_type": "markdown",
   "metadata": {},
   "source": [
    "그 후 aj의 렌터카 현황"
   ]
  },
  {
   "cell_type": "code",
   "execution_count": 25,
   "metadata": {},
   "outputs": [
    {
     "name": "stdout",
     "output_type": "stream",
     "text": [
      "현재 자동차 현황\n",
      "Sonata     s_1        : 대여가능\n",
      "Sonata     s_2        : 대여가능\n",
      "Sonata     s_3        : 대여가능\n",
      "Tucson     tu_1       : 대여가능\n",
      "Tucson     tu_2       : 대여가능\n",
      "Bongo      b_1        : 대여가능\n",
      "Bongo      b_2        : 대여가능\n",
      "Tesla_s    ts_1       : 대여가능\n",
      "Tesla_s    ts_3       : 대여가능\n",
      "Sonata     ss         : 대여가능\n"
     ]
    }
   ],
   "source": [
    "aj.monitor()"
   ]
  }
 ],
 "metadata": {
  "kernelspec": {
   "display_name": "Python 3",
   "language": "python",
   "name": "python3"
  },
  "language_info": {
   "codemirror_mode": {
    "name": "ipython",
    "version": 3
   },
   "file_extension": ".py",
   "mimetype": "text/x-python",
   "name": "python",
   "nbconvert_exporter": "python",
   "pygments_lexer": "ipython3",
   "version": "3.8.5"
  }
 },
 "nbformat": 4,
 "nbformat_minor": 4
}
