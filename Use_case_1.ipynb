{
 "cells": [
  {
   "cell_type": "markdown",
   "metadata": {},
   "source": [
    "- rentals shop has a garage\n",
    "- garage has cars\n",
    "- only sonata, tucson, bongo, tesla_s are cars"
   ]
  },
  {
   "cell_type": "code",
   "execution_count": 1,
   "metadata": {},
   "outputs": [],
   "source": [
    "import car_rental.cars as cars\n",
    "import customers.customers as customers\n",
    "import car_rental.garage as garage\n",
    "import car_rental.rental_shop as rental_shop"
   ]
  },
  {
   "cell_type": "markdown",
   "metadata": {},
   "source": [
    "ok 렌탈샵이 2021년 5월 1에 오픈"
   ]
  },
  {
   "cell_type": "code",
   "execution_count": 2,
   "metadata": {},
   "outputs": [],
   "source": [
    "ok=rental_shop.Rental(2021, 5, 1)"
   ]
  },
  {
   "cell_type": "markdown",
   "metadata": {},
   "source": [
    "ok 렌탈샵은 10대의 차를 구입하려고 한다.\n",
    "- 소나타 3대, 투산 2대, 봉고 2대, 테슬라 3대\n",
    "- 자동차 객체를 인스턴스화 할때 차의 이름과 신차인지 아닌지를 입력해야한다.\n",
    "- True를 입력하면 신차이다."
   ]
  },
  {
   "cell_type": "code",
   "execution_count": 3,
   "metadata": {},
   "outputs": [],
   "source": [
    "## instanitate\n",
    "s_1 = cars.Sonata(\"s_1\", True)\n",
    "s_2 = cars.Sonata(\"s_2\", True)\n",
    "s_3 = cars.Sonata(\"s_3\", False)\n",
    "tu_1 = cars.Tucson(\"tu_1\", True)\n",
    "tu_2 = cars.Tucson(\"tu_2\", True)\n",
    "b_1 = cars.Bongo(\"b_1\", True)\n",
    "b_2 = cars.Bongo(\"b_2\", False)\n",
    "ts_1 = cars.Tesla_s(\"ts_1\", True)\n",
    "ts_2 = cars.Tesla_s(\"ts_2\", True)\n",
    "ts_3 = cars.Tesla_s(\"ts_3\", True)\n",
    "##ok buy car and add to garage\n",
    "ok.buy_car(s_1)\n",
    "ok.buy_car(s_2)\n",
    "ok.buy_car(s_3)\n",
    "ok.buy_car(tu_1)\n",
    "ok.buy_car(tu_2)\n",
    "ok.buy_car(b_1)\n",
    "ok.buy_car(b_2)\n",
    "ok.buy_car(ts_1)\n",
    "ok.buy_car(ts_2)\n",
    "ok.buy_car(ts_3)"
   ]
  },
  {
   "cell_type": "markdown",
   "metadata": {},
   "source": [
    "현재 ok rental shop의 자동차 보유 현황"
   ]
  },
  {
   "cell_type": "code",
   "execution_count": 4,
   "metadata": {},
   "outputs": [
    {
     "name": "stdout",
     "output_type": "stream",
     "text": [
      "현재 자동차 현황\n",
      "Sonata     s_1        : 대여가능\n",
      "Sonata     s_2        : 대여가능\n",
      "Sonata     s_3        : 대여가능\n",
      "Tucson     tu_1       : 대여가능\n",
      "Tucson     tu_2       : 대여가능\n",
      "Bongo      b_1        : 대여가능\n",
      "Bongo      b_2        : 대여가능\n",
      "Tesla_s    ts_1       : 대여가능\n",
      "Tesla_s    ts_2       : 대여가능\n",
      "Tesla_s    ts_3       : 대여가능\n"
     ]
    }
   ],
   "source": [
    "ok.monitor()"
   ]
  },
  {
   "cell_type": "markdown",
   "metadata": {},
   "source": [
    "손님들이 옴"
   ]
  },
  {
   "cell_type": "code",
   "execution_count": 5,
   "metadata": {},
   "outputs": [],
   "source": [
    "lee = customers.Customer(\"lee\")\n",
    "kim = customers.Customer(\"kim\")\n",
    "ryu = customers.Customer(\"ryu\")"
   ]
  },
  {
   "cell_type": "markdown",
   "metadata": {},
   "source": [
    "손님 lee는 SUV차를 빌리고 싶어함\n",
    "- 요구사항으로 가능한 것 : \"Passenger car\", \"SUV\", \"Truck\", \"Electric\""
   ]
  },
  {
   "cell_type": "code",
   "execution_count": 6,
   "metadata": {},
   "outputs": [
    {
     "name": "stdout",
     "output_type": "stream",
     "text": [
      "Tucson\n",
      "요청사항에서 대여가능한 차 목록\n",
      "Tucson     tu_1      \n",
      "Tucson     tu_2      \n"
     ]
    }
   ],
   "source": [
    "lee.ask(\"SUV\", ok)"
   ]
  },
  {
   "cell_type": "markdown",
   "metadata": {},
   "source": [
    "고객은 빌릴때 어떤 렌탈샵에서 어떤차를 몇일동안 빌릴지 정해야한다"
   ]
  },
  {
   "cell_type": "code",
   "execution_count": 7,
   "metadata": {},
   "outputs": [
    {
     "name": "stdout",
     "output_type": "stream",
     "text": [
      "대여되었습니다.\n",
      "반납시 연료는 50%이상이어야 합니다.\n"
     ]
    }
   ],
   "source": [
    "lee.rent(tu_1, 7, ok)"
   ]
  },
  {
   "cell_type": "markdown",
   "metadata": {},
   "source": [
    "lee가 빌린 자동차의 대쉬보드"
   ]
  },
  {
   "cell_type": "code",
   "execution_count": 8,
   "metadata": {},
   "outputs": [
    {
     "name": "stdout",
     "output_type": "stream",
     "text": [
      "Tucson DASH\n",
      "총운행거리(km) : 0\n",
      "현재 연료량(L) : 60\n",
      "주행가능거리(km) : 600\n",
      "최근 100km간 연비 : 10\n",
      "탑승인원(명) : 0\n",
      "적재량(kg) : 0\n"
     ]
    }
   ],
   "source": [
    "lee.retrieve_dash()"
   ]
  },
  {
   "cell_type": "markdown",
   "metadata": {},
   "source": [
    "lee : 차 이용"
   ]
  },
  {
   "cell_type": "code",
   "execution_count": 9,
   "metadata": {},
   "outputs": [
    {
     "name": "stdout",
     "output_type": "stream",
     "text": [
      "100km 이동\n"
     ]
    }
   ],
   "source": [
    "lee.driving(100)"
   ]
  },
  {
   "cell_type": "code",
   "execution_count": 10,
   "metadata": {},
   "outputs": [],
   "source": [
    "lee.ride_passenger(4)\n",
    "lee.loading(100)"
   ]
  },
  {
   "cell_type": "code",
   "execution_count": 11,
   "metadata": {},
   "outputs": [
    {
     "name": "stdout",
     "output_type": "stream",
     "text": [
      "Tucson DASH\n",
      "총운행거리(km) : 100\n",
      "현재 연료량(L) : 50.0\n",
      "주행가능거리(km) : 450.0\n",
      "최근 100km간 연비 : 10.0\n",
      "탑승인원(명) : 4\n",
      "적재량(kg) : 100\n"
     ]
    }
   ],
   "source": [
    "lee.retrieve_dash()"
   ]
  },
  {
   "cell_type": "code",
   "execution_count": 12,
   "metadata": {},
   "outputs": [
    {
     "name": "stdout",
     "output_type": "stream",
     "text": [
      "100km 이동\n"
     ]
    }
   ],
   "source": [
    "lee.driving(100)"
   ]
  },
  {
   "cell_type": "code",
   "execution_count": 13,
   "metadata": {},
   "outputs": [
    {
     "name": "stdout",
     "output_type": "stream",
     "text": [
      "반납되었습니다.\n"
     ]
    }
   ],
   "source": [
    "lee.give_back()"
   ]
  },
  {
   "cell_type": "markdown",
   "metadata": {},
   "source": [
    "손님이 이용한 후 차의 대쉬보드"
   ]
  },
  {
   "cell_type": "code",
   "execution_count": 14,
   "metadata": {},
   "outputs": [
    {
     "name": "stdout",
     "output_type": "stream",
     "text": [
      "Tucson DASH\n",
      "총운행거리(km) : 200\n",
      "현재 연료량(L) : 38.888888888888886\n",
      "주행가능거리(km) : 350.0\n",
      "최근 100km간 연비 : 9.0\n",
      "탑승인원(명) : 4\n",
      "적재량(kg) : 100\n"
     ]
    }
   ],
   "source": [
    "tu_1.show_dash()"
   ]
  },
  {
   "cell_type": "markdown",
   "metadata": {},
   "source": [
    "ok 렌탈샵의 지난 한주간 운행거리, 주유량 합산"
   ]
  },
  {
   "cell_type": "code",
   "execution_count": 15,
   "metadata": {},
   "outputs": [
    {
     "name": "stdout",
     "output_type": "stream",
     "text": [
      "일주일간(2021-06-03~2021-06-09) 운행량 : 0 km\n",
      "일주일간(2021-06-03~2021-06-09) 주유량 : 0\n"
     ]
    }
   ],
   "source": [
    "ok.week_mileage()\n",
    "ok.week_fill()"
   ]
  },
  {
   "cell_type": "markdown",
   "metadata": {},
   "source": [
    "일주일은 어제부터 7일전이므로 lee가 이용한 내역은 오늘이므로 합산되지 않음."
   ]
  },
  {
   "cell_type": "markdown",
   "metadata": {},
   "source": [
    "다른 손님들이 차를 대여함"
   ]
  },
  {
   "cell_type": "code",
   "execution_count": 16,
   "metadata": {},
   "outputs": [
    {
     "name": "stdout",
     "output_type": "stream",
     "text": [
      "대여되었습니다.\n",
      "11.0L 주유했습니다.\n",
      "반납시 연료는 50%이상이어야 합니다.\n"
     ]
    }
   ],
   "source": [
    "ryu.rent(s_3, 2, ok)"
   ]
  },
  {
   "cell_type": "code",
   "execution_count": 17,
   "metadata": {},
   "outputs": [
    {
     "name": "stdout",
     "output_type": "stream",
     "text": [
      "대여되었습니다.\n",
      "반납시 연료는 50%이상이어야 합니다.\n"
     ]
    }
   ],
   "source": [
    "kim.rent(ts_3, 3, ok)"
   ]
  },
  {
   "cell_type": "markdown",
   "metadata": {},
   "source": [
    "렌탈샵의 차 현황"
   ]
  },
  {
   "cell_type": "code",
   "execution_count": 18,
   "metadata": {},
   "outputs": [
    {
     "name": "stdout",
     "output_type": "stream",
     "text": [
      "현재 자동차 현황\n",
      "Sonata     s_1        : 대여가능\n",
      "Sonata     s_2        : 대여가능\n",
      "Sonata     s_3        : 대여중\n",
      "Tucson     tu_1       : 대여가능\n",
      "Tucson     tu_2       : 대여가능\n",
      "Bongo      b_1        : 대여가능\n",
      "Bongo      b_2        : 대여가능\n",
      "Tesla_s    ts_1       : 대여가능\n",
      "Tesla_s    ts_2       : 대여가능\n",
      "Tesla_s    ts_3       : 대여중\n"
     ]
    }
   ],
   "source": [
    "ok.monitor()"
   ]
  }
 ],
 "metadata": {
  "kernelspec": {
   "display_name": "Python 3",
   "language": "python",
   "name": "python3"
  },
  "language_info": {
   "codemirror_mode": {
    "name": "ipython",
    "version": 3
   },
   "file_extension": ".py",
   "mimetype": "text/x-python",
   "name": "python",
   "nbconvert_exporter": "python",
   "pygments_lexer": "ipython3",
   "version": "3.8.5"
  }
 },
 "nbformat": 4,
 "nbformat_minor": 4
}
