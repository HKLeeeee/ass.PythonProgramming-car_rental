{
 "cells": [
  {
   "cell_type": "code",
   "execution_count": 69,
   "metadata": {},
   "outputs": [],
   "source": [
    "import car_rental.cars as c\n",
    "import datetime as dt\n",
    "import car_rental.garage as g\n",
    "import customers.customers as cu\n",
    "\n",
    "class Rental :\n",
    "    def __init__(self, start_y, start_m, start_d) :\n",
    "        self.opening = dt.datetime(year=start_y, month=start_m, day=start_d)\n",
    "        self.rent_list={}\n",
    "        self.garage=g.Garage()\n",
    "        self.recent_fill={}\n",
    "        self.recent_mileage={}\n",
    "        \n",
    "    def __del__(self) :\n",
    "        print(\"폐업\")\n",
    "        \n",
    "    def buy_car (self, car:c.Car) :\n",
    "        ##garage에 넣음\n",
    "        self.garage.add_car(car)\n",
    "        \n",
    "    def remove_car(self, car:c.Car):\n",
    "        ##garage에서 제거\n",
    "        self.garage.remove_car(car)\n",
    "        \n",
    "    def renting(self, car:c.Car, who:str, howlong:int) :\n",
    "        self.garage.renting(car)\n",
    "        if car.get_fuel() < 0.5*car.get_max_fuel() :\n",
    "            car.fill(0.5*car.get_max_fuel()-car.get_fuel())\n",
    "        print('반납시 연료는 50%이상이어야 합니다.')\n",
    "        return_date = dt.date.today()+dt.timedelta(days=howlong)\n",
    "        self.rent_list[car.get_name()]=[who, return_date]\n",
    "        \n",
    "    def get_back(self, car:c.Car) :\n",
    "        if car.get_fuel() < 0.5*car.get_max_fuel() :\n",
    "            print('연료를 50%이상으로 채우고 반납해야합니다.')\n",
    "            return\n",
    "        today=dt.date.today()\n",
    "        if today>self.rent_list[car.get_name()][1] :\n",
    "            print('반납일이 지나 추가요금이 발생되었습니다.')\n",
    "        self.garage.get_back(car)\n",
    "        del self.rent_list[car.get_name()]\n",
    "        \n",
    "    def monitor(self) :\n",
    "        self.garage.retrieve()    \n",
    "        \n",
    "    def agg_recent_fill(self,x) :\n",
    "        ##일주일간 주유량 집계\n",
    "        today=dt.date.today()\n",
    "        if today in self.recent_fill :\n",
    "            self.recent_fill[today]+=x\n",
    "        else :\n",
    "            self.recent_fill[today]=x        \n",
    "            \n",
    "    def week_fill(self):\n",
    "        ##일주일간 주유량 조회\n",
    "        today=dt.date.today()\n",
    "        week=today-dt.timedelta(days=7)\n",
    "        d=today-dt.timedelta(days=1)\n",
    "        quantity=0\n",
    "        while d>=week :\n",
    "            if d in self.recent_fill :\n",
    "                quantity += self.recent_fill[d]\n",
    "            d=d-dt.timedelta(days=1)\n",
    "        print(\"일주일간 주유량 : \", quantity )\n",
    "    \n",
    "    def agg_recent_mileage(self,x):\n",
    "        ##일주일간 운행량 집계\n",
    "        today=dt.date.today()\n",
    "        if today in self.recent_fill :\n",
    "            self.recent_mileage[today]+=x\n",
    "        else :\n",
    "            self.recent_mileage[today]=x      \n",
    "            \n",
    "    def week_mileage(self):\n",
    "        ##일주일간 운행량 조회\n",
    "        today=dt.date.today()\n",
    "        week=today-dt.timedelta(days=7)\n",
    "        d=today-dt.timedelta(days=1)\n",
    "        quantity=0\n",
    "        while d>=week :\n",
    "            if d in self.recent_mileage :\n",
    "                quantity += self.recent_mileage[d]\n",
    "            d=d-dt.timedelta(days=1)\n",
    "        print(\"일주일간 운행량 : \", quantity ,\"km\" )\n",
    "    \n",
    "    def recommendation(self, ask):\n",
    "        answer=\"\"\n",
    "        if ask==\"Passenger car\" : answer = \"Sonata\"\n",
    "        elif ask==\"SUV\" : answer = \"Tucson\"\n",
    "        elif ask==\"Truck\" : answer = \"Bongo\"\n",
    "        elif ask==\"Electric\" : answer = \"Tesla_s\"\n",
    "        print(answer)\n",
    "        self.garage.search(answer)\n"
   ]
  },
  {
   "cell_type": "code",
   "execution_count": 70,
   "metadata": {},
   "outputs": [],
   "source": [
    "ok=Rental(2021,5, 11)\n"
   ]
  },
  {
   "cell_type": "code",
   "execution_count": 71,
   "metadata": {},
   "outputs": [],
   "source": [
    "s_1=c.Sonata(\"s_1\", True)"
   ]
  },
  {
   "cell_type": "code",
   "execution_count": 72,
   "metadata": {},
   "outputs": [],
   "source": [
    "ok.buy_car(s_1)"
   ]
  },
  {
   "cell_type": "code",
   "execution_count": 73,
   "metadata": {},
   "outputs": [],
   "source": [
    "te=c.Tesla_s(\"te\", False)\n",
    "ok.buy_car(te)"
   ]
  },
  {
   "cell_type": "code",
   "execution_count": 74,
   "metadata": {},
   "outputs": [],
   "source": [
    "ok.agg_recent_fill(10)"
   ]
  },
  {
   "cell_type": "code",
   "execution_count": 75,
   "metadata": {},
   "outputs": [],
   "source": [
    "ok.agg_recent_fill(20)"
   ]
  },
  {
   "cell_type": "code",
   "execution_count": 76,
   "metadata": {},
   "outputs": [
    {
     "data": {
      "text/plain": [
       "{datetime.date(2021, 6, 8): 30}"
      ]
     },
     "execution_count": 76,
     "metadata": {},
     "output_type": "execute_result"
    }
   ],
   "source": [
    "ok.recent_fill"
   ]
  },
  {
   "cell_type": "code",
   "execution_count": 77,
   "metadata": {},
   "outputs": [
    {
     "name": "stdout",
     "output_type": "stream",
     "text": [
      "일주일간 주유량 :  30\n"
     ]
    }
   ],
   "source": [
    "ok.week_fill()"
   ]
  },
  {
   "cell_type": "code",
   "execution_count": 78,
   "metadata": {},
   "outputs": [],
   "source": [
    "today=dt.date.today()"
   ]
  },
  {
   "cell_type": "code",
   "execution_count": 79,
   "metadata": {},
   "outputs": [
    {
     "data": {
      "text/plain": [
       "int"
      ]
     },
     "execution_count": 79,
     "metadata": {},
     "output_type": "execute_result"
    }
   ],
   "source": [
    "type(ok.recent_fill[today])"
   ]
  },
  {
   "cell_type": "markdown",
   "metadata": {},
   "source": [
    "def week_fill(self):\n",
    "        ##일주일간 주유량 조회\n",
    "        today=dt.date.today()\n",
    "        week=today-dt.timedelta(days=7)\n",
    "        d=today-dt.timedelta(days=1)\n",
    "        quantity=0\n",
    "        while d>=week :\n",
    "            quantity += self.recent_fill[str(d)]\n",
    "            d=d-dt.timedelta(days=1)\n",
    "        print(\"일주일간 주유량 : \"+ quantity )"
   ]
  },
  {
   "cell_type": "code",
   "execution_count": 23,
   "metadata": {},
   "outputs": [
    {
     "data": {
      "text/plain": [
       "True"
      ]
     },
     "execution_count": 23,
     "metadata": {},
     "output_type": "execute_result"
    }
   ],
   "source": [
    "week=today-dt.timedelta(days=7)\n",
    "d=today-dt.timedelta(days=1)\n",
    "d>week"
   ]
  },
  {
   "cell_type": "code",
   "execution_count": null,
   "metadata": {},
   "outputs": [],
   "source": [
    "while d>=week :\n",
    "    print()\n",
    "    d=d-dt.timedelta(days=1)"
   ]
  }
 ],
 "metadata": {
  "kernelspec": {
   "display_name": "Python 3",
   "language": "python",
   "name": "python3"
  },
  "language_info": {
   "codemirror_mode": {
    "name": "ipython",
    "version": 3
   },
   "file_extension": ".py",
   "mimetype": "text/x-python",
   "name": "python",
   "nbconvert_exporter": "python",
   "pygments_lexer": "ipython3",
   "version": "3.8.5"
  }
 },
 "nbformat": 4,
 "nbformat_minor": 4
}
