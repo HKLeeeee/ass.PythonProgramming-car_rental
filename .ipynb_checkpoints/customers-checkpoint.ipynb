{
 "cells": [
  {
   "cell_type": "code",
   "execution_count": null,
   "metadata": {},
   "outputs": [],
   "source": [
    "import cars as c\n",
    "import datetime as dt\n",
    "import rental_shop as rs\n",
    "\n",
    "class Customer :\n",
    "    def __init__(self, name:str) :\n",
    "        self.name=name\n",
    "        self.d=dt.timedelta(days=0)\n",
    "        ##d는 빌리는 기간\n",
    "        ##8일간 빌리면 d=8\n",
    "        \n",
    "    def __del__(self):\n",
    "        return\n",
    "    def get_name(self) :\n",
    "        return self.name\n",
    "    \n",
    "    def rent(self, car:c.Car, d:int, where:rs.Rental) :\n",
    "        self.car=car\n",
    "        self.rental_shop = where\n",
    "        self.rental_shop.renting(self.car, self.name, d)\n",
    "        \n",
    "    def give_back(self) :\n",
    "        self.rental_shop.get_back()\n",
    "        \n",
    "    def fill_up(self) :\n",
    "        self.car.fill_up()\n",
    "        self.rental_shop.agg_recent_fill(self.car.get_recent_fill())\n",
    "        \n",
    "    def fill(self, x) :\n",
    "        self.car.fill(x)\n",
    "        self.rental_shop.agg_recent_fill(self.car.get_recent_fill())\n",
    "        \n",
    "    def ride_passenger(self, x):\n",
    "        self.car.ride\n",
    "    def get_off_passenger(self, x):\n",
    "        self.car.get_off(x)\n",
    "    def loading(self, x):\n",
    "        self.car.loading(x)\n",
    "    def unloading(self, x):\n",
    "        self.car.unloaing(self,x)\n",
    "    def driving(self, x):\n",
    "        self.car.move(x)\n",
    "        self.rental_shop.agg_recent_mileage(self.car.get_recent_mileage())\n",
    "    def retrieve_dash(self) :\n",
    "        self.car.show_dash()\n",
    "        \n",
    "    def ask(self, ask, where:rs.Rental) :\n",
    "        print(where.recommandation(ask))"
   ]
  },
  {
   "cell_type": "code",
   "execution_count": null,
   "metadata": {},
   "outputs": [],
   "source": [
    "ss=c.Sonata('ss',True)\n",
    "lee=Customer('le')"
   ]
  },
  {
   "cell_type": "code",
   "execution_count": null,
   "metadata": {},
   "outputs": [],
   "source": [
    "ok=rs.Rental(2022, 5, 21)\n",
    "ok.buy_car(ss)"
   ]
  },
  {
   "cell_type": "code",
   "execution_count": null,
   "metadata": {},
   "outputs": [],
   "source": [
    "lee.rent(ss, 7, ok)"
   ]
  },
  {
   "cell_type": "code",
   "execution_count": null,
   "metadata": {},
   "outputs": [],
   "source": [
    "lee.driving(100)"
   ]
  },
  {
   "cell_type": "code",
   "execution_count": null,
   "metadata": {},
   "outputs": [],
   "source": [
    "lee.retrieve_dash()"
   ]
  },
  {
   "cell_type": "code",
   "execution_count": null,
   "metadata": {},
   "outputs": [],
   "source": []
  }
 ],
 "metadata": {
  "kernelspec": {
   "display_name": "Python 3",
   "language": "python",
   "name": "python3"
  },
  "language_info": {
   "codemirror_mode": {
    "name": "ipython",
    "version": 3
   },
   "file_extension": ".py",
   "mimetype": "text/x-python",
   "name": "python",
   "nbconvert_exporter": "python",
   "pygments_lexer": "ipython3",
   "version": "3.8.5"
  }
 },
 "nbformat": 4,
 "nbformat_minor": 4
}
